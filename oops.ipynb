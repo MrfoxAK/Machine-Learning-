{
 "cells": [
  {
   "cell_type": "markdown",
   "id": "2c69ee58",
   "metadata": {},
   "source": [
    "# OOPS Concept"
   ]
  },
  {
   "cell_type": "code",
   "execution_count": 25,
   "id": "7597cce3",
   "metadata": {},
   "outputs": [
    {
     "ename": "IndentationError",
     "evalue": "expected an indented block (3434558073.py, line 6)",
     "output_type": "error",
     "traceback": [
      "\u001b[1;36m  Input \u001b[1;32mIn [25]\u001b[1;36m\u001b[0m\n\u001b[1;33m    def self_driving(self,et):\u001b[0m\n\u001b[1;37m                              ^\u001b[0m\n\u001b[1;31mIndentationError\u001b[0m\u001b[1;31m:\u001b[0m expected an indented block\n"
     ]
    }
   ],
   "source": [
    "class car:\n",
    "    def __init__(self,wind,dr,et):\n",
    "        self.window = wind\n",
    "        self.door = dr\n",
    "        self.engine_type = et\n",
    "    def self_driving(self,et):\n",
    "        return \"This is {} Car\".format(self)"
   ]
  },
  {
   "cell_type": "code",
   "execution_count": 15,
   "id": "611ce8a4",
   "metadata": {},
   "outputs": [],
   "source": [
    "c1 = car(3,4,\"S\")"
   ]
  },
  {
   "cell_type": "code",
   "execution_count": 21,
   "id": "7d2a4812",
   "metadata": {},
   "outputs": [
    {
     "data": {
      "text/plain": [
       "<__main__.car at 0x206bdccf820>"
      ]
     },
     "execution_count": 21,
     "metadata": {},
     "output_type": "execute_result"
    }
   ],
   "source": [
    "c1"
   ]
  },
  {
   "cell_type": "code",
   "execution_count": 22,
   "id": "42cf8a36",
   "metadata": {},
   "outputs": [
    {
     "name": "stdout",
     "output_type": "stream",
     "text": [
      "3\n"
     ]
    }
   ],
   "source": [
    "print(c1.window)"
   ]
  },
  {
   "cell_type": "code",
   "execution_count": 23,
   "id": "ec7c47de",
   "metadata": {},
   "outputs": [],
   "source": [
    "c2 = car(1,1,\"e\")"
   ]
  },
  {
   "cell_type": "code",
   "execution_count": 24,
   "id": "ee3ab2c7",
   "metadata": {},
   "outputs": [
    {
     "name": "stdout",
     "output_type": "stream",
     "text": [
      "1\n"
     ]
    }
   ],
   "source": [
    "print(c2.window)"
   ]
  },
  {
   "cell_type": "code",
   "execution_count": null,
   "id": "0a1cb007",
   "metadata": {},
   "outputs": [],
   "source": []
  }
 ],
 "metadata": {
  "kernelspec": {
   "display_name": "Python 3 (ipykernel)",
   "language": "python",
   "name": "python3"
  },
  "language_info": {
   "codemirror_mode": {
    "name": "ipython",
    "version": 3
   },
   "file_extension": ".py",
   "mimetype": "text/x-python",
   "name": "python",
   "nbconvert_exporter": "python",
   "pygments_lexer": "ipython3",
   "version": "3.9.12"
  }
 },
 "nbformat": 4,
 "nbformat_minor": 5
}
