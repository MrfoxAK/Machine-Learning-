{
 "cells": [
  {
   "cell_type": "code",
   "execution_count": 1,
   "metadata": {},
   "outputs": [],
   "source": [
    "from keras.preprocessing.image import ImageDataGenerator\n",
    "from keras.models import Sequential\n",
    "from keras.layers import Conv2D, MaxPooling2D\n",
    "from keras.layers import Activation, Dropout, Flatten, Dense\n",
    "from keras import backend as k\n",
    "import numpy as np\n",
    "from keras.preprocessing import image\n"
   ]
  },
  {
   "cell_type": "code",
   "execution_count": 2,
   "metadata": {},
   "outputs": [],
   "source": [
    "img_width , img_height = 150, 150\n",
    "train_data_dir = \"C:\\\\Users\\\\AKASH\\\\Tenserflow\\\\cats_dogs\\\\data\\\\train (1)\"\n",
    "validation_data_dir  = \"C:\\\\Users\\\\AKASH\\\\Tenserflow\\\\cats_dogs\\\\data\\\\validation\"\n",
    "nb_train_sample = 100\n",
    "nb_validation_sample = 100\n",
    "epochs = 50\n",
    "batch_size = 20\n",
    "\n"
   ]
  },
  {
   "cell_type": "code",
   "execution_count": 3,
   "metadata": {},
   "outputs": [],
   "source": [
    "if k.image_data_format() == 'channels_first':\n",
    "    input_shape = (3,img_width,img_height)\n",
    "else:\n",
    "    input_shape = (img_width,img_height,3)\n",
    "    "
   ]
  },
  {
   "cell_type": "code",
   "execution_count": 4,
   "metadata": {},
   "outputs": [],
   "source": [
    "train_datagen = ImageDataGenerator(\n",
    "    rescale= 1./255,\n",
    "    shear_range= 0.2,\n",
    "    zoom_range= 0.2,\n",
    "    horizontal_flip=True\n",
    ")\n",
    "\n",
    "test_datagen = ImageDataGenerator(\n",
    "    rescale= 1./255\n",
    ")"
   ]
  },
  {
   "cell_type": "code",
   "execution_count": 5,
   "metadata": {},
   "outputs": [
    {
     "name": "stdout",
     "output_type": "stream",
     "text": [
      "Found 5040 images belonging to 2 classes.\n",
      "Found 5040 images belonging to 2 classes.\n"
     ]
    }
   ],
   "source": [
    "train_generator = train_datagen.flow_from_directory(train_data_dir,\n",
    "                                                    target_size=(img_width,img_height),\n",
    "                                                    batch_size=batch_size,\n",
    "                                                    class_mode='binary')\n",
    "\n",
    "validation_generator = test_datagen.flow_from_directory(validation_data_dir,\n",
    "                                                    target_size=(img_width,img_height),\n",
    "                                                    batch_size=batch_size,\n",
    "                                                    class_mode='binary')"
   ]
  },
  {
   "cell_type": "code",
   "execution_count": 10,
   "metadata": {},
   "outputs": [
    {
     "name": "stdout",
     "output_type": "stream",
     "text": [
      "Model: \"sequential_2\"\n",
      "_________________________________________________________________\n",
      " Layer (type)                Output Shape              Param #   \n",
      "=================================================================\n",
      " conv2d_6 (Conv2D)           (None, 148, 148, 32)      896       \n",
      "                                                                 \n",
      " activation_10 (Activation)  (None, 148, 148, 32)      0         \n",
      "                                                                 \n",
      " max_pooling2d_6 (MaxPooling  (None, 74, 74, 32)       0         \n",
      " 2D)                                                             \n",
      "                                                                 \n",
      " conv2d_7 (Conv2D)           (None, 72, 72, 32)        9248      \n",
      "                                                                 \n",
      " activation_11 (Activation)  (None, 72, 72, 32)        0         \n",
      "                                                                 \n",
      " max_pooling2d_7 (MaxPooling  (None, 36, 36, 32)       0         \n",
      " 2D)                                                             \n",
      "                                                                 \n",
      " conv2d_8 (Conv2D)           (None, 34, 34, 64)        18496     \n",
      "                                                                 \n",
      " activation_12 (Activation)  (None, 34, 34, 64)        0         \n",
      "                                                                 \n",
      " max_pooling2d_8 (MaxPooling  (None, 17, 17, 64)       0         \n",
      " 2D)                                                             \n",
      "                                                                 \n",
      " flatten_2 (Flatten)         (None, 18496)             0         \n",
      "                                                                 \n",
      " dense_4 (Dense)             (None, 64)                1183808   \n",
      "                                                                 \n",
      " activation_13 (Activation)  (None, 64)                0         \n",
      "                                                                 \n",
      " dense_5 (Dense)             (None, 1)                 65        \n",
      "                                                                 \n",
      " activation_14 (Activation)  (None, 1)                 0         \n",
      "                                                                 \n",
      "=================================================================\n",
      "Total params: 1,212,513\n",
      "Trainable params: 1,212,513\n",
      "Non-trainable params: 0\n",
      "_________________________________________________________________\n"
     ]
    }
   ],
   "source": [
    "model = Sequential()\n",
    "model.add(Conv2D(32,(3,3),input_shape=input_shape))\n",
    "model.add(Activation('relu'))\n",
    "model.add(MaxPooling2D(pool_size=(2,2)))\n",
    "# model.summary()\n",
    "model.add(Conv2D(32,(3,3),input_shape=input_shape))\n",
    "model.add(Activation('relu'))\n",
    "model.add(MaxPooling2D(pool_size=(2,2)))\n",
    "model.add(Conv2D(64,(3,3),input_shape=input_shape))\n",
    "model.add(Activation('relu'))\n",
    "model.add(MaxPooling2D(pool_size=(2,2)))\n",
    "model.add(Flatten())\n",
    "model.add(Dense(64))\n",
    "model.add(Activation('relu'))\n",
    "# model.add(Dropout(1))\n",
    "model.add(Dense(1))\n",
    "model.add(Activation('sigmoid'))\n",
    "\n",
    "model.summary()\n",
    "\n",
    "model.compile(\n",
    "    loss='binary_crossentropy',\n",
    "    optimizer='rmsprop',\n",
    "    metrics=['accuracy']\n",
    ")\n"
   ]
  },
  {
   "cell_type": "code",
   "execution_count": 12,
   "metadata": {},
   "outputs": [
    {
     "name": "stdout",
     "output_type": "stream",
     "text": [
      "Epoch 1/50\n"
     ]
    },
    {
     "name": "stderr",
     "output_type": "stream",
     "text": [
      "C:\\Users\\AKASH\\AppData\\Local\\Temp\\ipykernel_15100\\324518597.py:1: UserWarning: `Model.fit_generator` is deprecated and will be removed in a future version. Please use `Model.fit`, which supports generators.\n",
      "  model.fit_generator(\n"
     ]
    },
    {
     "name": "stdout",
     "output_type": "stream",
     "text": [
      "5/5 [==============================] - 2s 371ms/step - loss: 0.6419 - accuracy: 0.6700 - val_loss: 0.6103 - val_accuracy: 0.6700\n",
      "Epoch 2/50\n",
      "5/5 [==============================] - 2s 357ms/step - loss: 0.6673 - accuracy: 0.5600 - val_loss: 0.6019 - val_accuracy: 0.6700\n",
      "Epoch 3/50\n",
      "5/5 [==============================] - 2s 360ms/step - loss: 0.6219 - accuracy: 0.6600 - val_loss: 0.5939 - val_accuracy: 0.7100\n",
      "Epoch 4/50\n",
      "5/5 [==============================] - 2s 361ms/step - loss: 0.7134 - accuracy: 0.6200 - val_loss: 0.5864 - val_accuracy: 0.7300\n",
      "Epoch 5/50\n",
      "5/5 [==============================] - 2s 357ms/step - loss: 0.6091 - accuracy: 0.7000 - val_loss: 0.5743 - val_accuracy: 0.7300\n",
      "Epoch 6/50\n",
      "5/5 [==============================] - 2s 367ms/step - loss: 0.6142 - accuracy: 0.6400 - val_loss: 0.6008 - val_accuracy: 0.6600\n",
      "Epoch 7/50\n",
      "5/5 [==============================] - 2s 362ms/step - loss: 0.6712 - accuracy: 0.6100 - val_loss: 0.5803 - val_accuracy: 0.7400\n",
      "Epoch 8/50\n",
      "5/5 [==============================] - 2s 349ms/step - loss: 0.5668 - accuracy: 0.7400 - val_loss: 0.8140 - val_accuracy: 0.5800\n",
      "Epoch 9/50\n",
      "5/5 [==============================] - 2s 351ms/step - loss: 0.6996 - accuracy: 0.6100 - val_loss: 0.6196 - val_accuracy: 0.6300\n",
      "Epoch 10/50\n",
      "5/5 [==============================] - 2s 381ms/step - loss: 0.6314 - accuracy: 0.7000 - val_loss: 0.5984 - val_accuracy: 0.7100\n",
      "Epoch 11/50\n",
      "5/5 [==============================] - 2s 375ms/step - loss: 0.5315 - accuracy: 0.7400 - val_loss: 0.6128 - val_accuracy: 0.6200\n",
      "Epoch 12/50\n",
      "5/5 [==============================] - 2s 420ms/step - loss: 0.6679 - accuracy: 0.5500 - val_loss: 0.6013 - val_accuracy: 0.7100\n",
      "Epoch 13/50\n",
      "5/5 [==============================] - 2s 378ms/step - loss: 0.6340 - accuracy: 0.6000 - val_loss: 0.6003 - val_accuracy: 0.7200\n",
      "Epoch 14/50\n",
      "5/5 [==============================] - 2s 376ms/step - loss: 0.6109 - accuracy: 0.6000 - val_loss: 0.6118 - val_accuracy: 0.6700\n",
      "Epoch 15/50\n",
      "5/5 [==============================] - 2s 351ms/step - loss: 0.6454 - accuracy: 0.6300 - val_loss: 0.5276 - val_accuracy: 0.7800\n",
      "Epoch 16/50\n",
      "5/5 [==============================] - 2s 360ms/step - loss: 0.6374 - accuracy: 0.6200 - val_loss: 0.5373 - val_accuracy: 0.7800\n",
      "Epoch 17/50\n",
      "5/5 [==============================] - 2s 347ms/step - loss: 0.5858 - accuracy: 0.7300 - val_loss: 0.5388 - val_accuracy: 0.7400\n",
      "Epoch 18/50\n",
      "5/5 [==============================] - 2s 344ms/step - loss: 0.5970 - accuracy: 0.6600 - val_loss: 0.5489 - val_accuracy: 0.7200\n",
      "Epoch 19/50\n",
      "5/5 [==============================] - 2s 387ms/step - loss: 0.6282 - accuracy: 0.6100 - val_loss: 0.6178 - val_accuracy: 0.6600\n",
      "Epoch 20/50\n",
      "5/5 [==============================] - 2s 355ms/step - loss: 0.5935 - accuracy: 0.6400 - val_loss: 0.4859 - val_accuracy: 0.7200\n",
      "Epoch 21/50\n",
      "5/5 [==============================] - 2s 385ms/step - loss: 0.5707 - accuracy: 0.6800 - val_loss: 0.5575 - val_accuracy: 0.7700\n",
      "Epoch 22/50\n",
      "5/5 [==============================] - 2s 379ms/step - loss: 0.5863 - accuracy: 0.6900 - val_loss: 0.5681 - val_accuracy: 0.7500\n",
      "Epoch 23/50\n",
      "5/5 [==============================] - 2s 384ms/step - loss: 0.6062 - accuracy: 0.6600 - val_loss: 0.5968 - val_accuracy: 0.6200\n",
      "Epoch 24/50\n",
      "5/5 [==============================] - 2s 386ms/step - loss: 0.6572 - accuracy: 0.6500 - val_loss: 0.6577 - val_accuracy: 0.5900\n",
      "Epoch 25/50\n",
      "5/5 [==============================] - 2s 420ms/step - loss: 0.6261 - accuracy: 0.6400 - val_loss: 0.6538 - val_accuracy: 0.6100\n",
      "Epoch 26/50\n",
      "5/5 [==============================] - 2s 421ms/step - loss: 0.5944 - accuracy: 0.6700 - val_loss: 0.5642 - val_accuracy: 0.7100\n",
      "Epoch 27/50\n",
      "5/5 [==============================] - 2s 410ms/step - loss: 0.5327 - accuracy: 0.7700 - val_loss: 0.5335 - val_accuracy: 0.7700\n",
      "Epoch 28/50\n",
      "5/5 [==============================] - 2s 502ms/step - loss: 0.6015 - accuracy: 0.7200 - val_loss: 0.6160 - val_accuracy: 0.6800\n",
      "Epoch 29/50\n",
      "5/5 [==============================] - 3s 534ms/step - loss: 0.5770 - accuracy: 0.6800 - val_loss: 0.5925 - val_accuracy: 0.6800\n",
      "Epoch 30/50\n",
      "5/5 [==============================] - 2s 486ms/step - loss: 0.6052 - accuracy: 0.6600 - val_loss: 0.6063 - val_accuracy: 0.6600\n",
      "Epoch 31/50\n",
      "5/5 [==============================] - 2s 433ms/step - loss: 0.5975 - accuracy: 0.7500 - val_loss: 0.7108 - val_accuracy: 0.5700\n",
      "Epoch 32/50\n",
      "5/5 [==============================] - 2s 399ms/step - loss: 0.6842 - accuracy: 0.6100 - val_loss: 0.5628 - val_accuracy: 0.7700\n",
      "Epoch 33/50\n",
      "5/5 [==============================] - 2s 455ms/step - loss: 0.6347 - accuracy: 0.6200 - val_loss: 0.5744 - val_accuracy: 0.6600\n",
      "Epoch 34/50\n",
      "5/5 [==============================] - 3s 602ms/step - loss: 0.6151 - accuracy: 0.7200 - val_loss: 0.5480 - val_accuracy: 0.6800\n",
      "Epoch 35/50\n",
      "5/5 [==============================] - 3s 484ms/step - loss: 0.5727 - accuracy: 0.7400 - val_loss: 0.5906 - val_accuracy: 0.6500\n",
      "Epoch 36/50\n",
      "5/5 [==============================] - 2s 417ms/step - loss: 0.6024 - accuracy: 0.6500 - val_loss: 0.6207 - val_accuracy: 0.6600\n",
      "Epoch 37/50\n",
      "5/5 [==============================] - 2s 390ms/step - loss: 0.6091 - accuracy: 0.7900 - val_loss: 0.5352 - val_accuracy: 0.6700\n",
      "Epoch 38/50\n",
      "5/5 [==============================] - 2s 441ms/step - loss: 0.6091 - accuracy: 0.6800 - val_loss: 0.5235 - val_accuracy: 0.7500\n",
      "Epoch 39/50\n",
      "5/5 [==============================] - 2s 382ms/step - loss: 0.5752 - accuracy: 0.7300 - val_loss: 0.6306 - val_accuracy: 0.7200\n",
      "Epoch 40/50\n",
      "5/5 [==============================] - 2s 369ms/step - loss: 0.5870 - accuracy: 0.7000 - val_loss: 0.6239 - val_accuracy: 0.6400\n",
      "Epoch 41/50\n",
      "5/5 [==============================] - 2s 370ms/step - loss: 0.5964 - accuracy: 0.6700 - val_loss: 0.5491 - val_accuracy: 0.7400\n",
      "Epoch 42/50\n",
      "5/5 [==============================] - 2s 357ms/step - loss: 0.6420 - accuracy: 0.7000 - val_loss: 0.5219 - val_accuracy: 0.7300\n",
      "Epoch 43/50\n",
      "5/5 [==============================] - 2s 358ms/step - loss: 0.5991 - accuracy: 0.6400 - val_loss: 0.5740 - val_accuracy: 0.6900\n",
      "Epoch 44/50\n",
      "5/5 [==============================] - 2s 360ms/step - loss: 0.5094 - accuracy: 0.7400 - val_loss: 0.5981 - val_accuracy: 0.6500\n",
      "Epoch 45/50\n",
      "5/5 [==============================] - 2s 377ms/step - loss: 0.6422 - accuracy: 0.6400 - val_loss: 0.5346 - val_accuracy: 0.7100\n",
      "Epoch 46/50\n",
      "5/5 [==============================] - 2s 362ms/step - loss: 0.5799 - accuracy: 0.6700 - val_loss: 0.5983 - val_accuracy: 0.6800\n",
      "Epoch 47/50\n",
      "5/5 [==============================] - 2s 367ms/step - loss: 0.6014 - accuracy: 0.6300 - val_loss: 0.4970 - val_accuracy: 0.8000\n",
      "Epoch 48/50\n",
      "5/5 [==============================] - 2s 354ms/step - loss: 0.6390 - accuracy: 0.6000 - val_loss: 0.6007 - val_accuracy: 0.6700\n",
      "Epoch 49/50\n",
      "5/5 [==============================] - 2s 361ms/step - loss: 0.6146 - accuracy: 0.7200 - val_loss: 0.5581 - val_accuracy: 0.7000\n",
      "Epoch 50/50\n",
      "5/5 [==============================] - 2s 357ms/step - loss: 0.6605 - accuracy: 0.6700 - val_loss: 0.5570 - val_accuracy: 0.7400\n"
     ]
    }
   ],
   "source": [
    "model.fit_generator(\n",
    "    train_generator,\n",
    "    steps_per_epoch=nb_train_sample // batch_size,\n",
    "    epochs=epochs,\n",
    "    validation_data=validation_generator,\n",
    "    validation_steps=nb_validation_sample//batch_size\n",
    ")\n",
    "model.save_weights('cats_dogs.h5')\n"
   ]
  },
  {
   "cell_type": "code",
   "execution_count": 48,
   "metadata": {},
   "outputs": [
    {
     "name": "stdout",
     "output_type": "stream",
     "text": [
      "(1, 500, 274, 3)\n"
     ]
    }
   ],
   "source": [
    "import skimage\n",
    "import tensorflow as tf\n",
    "import skimage.io as io\n",
    "import skimage.transform\n",
    "import cv2\n",
    "path = \"C:\\\\Users\\\\AKASH\\\\Tenserflow\\\\cats_dogs\\\\data\\\\validation\\\\dogs\\\\dog.24.jpg\"\n",
    "Load_image = tf.keras.preprocessing.image.load_img(path)\n",
    "# print(Load_image)\n",
    "from numpy import asarray\n",
    "data = asarray(Load_image)\n",
    "# data.resize(224,224,3)\n",
    "data = np.expand_dims(data,0)\n",
    "# img256 = skimage.transform.resize(data, (224,224))\n",
    "\n",
    "print(data.shape)"
   ]
  },
  {
   "cell_type": "code",
   "execution_count": 49,
   "metadata": {},
   "outputs": [
    {
     "name": "stdout",
     "output_type": "stream",
     "text": [
      "(1, 150, 150, 3)\n",
      "1/1 [==============================] - 0s 26ms/step\n",
      "[[1.]]\n",
      "The image u given to the model is a dog\n"
     ]
    }
   ],
   "source": [
    "img1 = cv2.imread(path)\n",
    "img1 = cv2.resize(img1,(150,150),3)\n",
    "img1 = np.expand_dims(img1,0)\n",
    "print(img1.shape)\n",
    "pred = model.predict(img1)\n",
    "print(pred)\n",
    "if pred[0][0] == 1:\n",
    "    prediction = \"dog\"\n",
    "else:\n",
    "    prediction = \"cat\"\n",
    "print(\"The image u given to the model is a\",prediction)"
   ]
  }
 ],
 "metadata": {
  "kernelspec": {
   "display_name": "Python 3",
   "language": "python",
   "name": "python3"
  },
  "language_info": {
   "codemirror_mode": {
    "name": "ipython",
    "version": 3
   },
   "file_extension": ".py",
   "mimetype": "text/x-python",
   "name": "python",
   "nbconvert_exporter": "python",
   "pygments_lexer": "ipython3",
   "version": "3.10.8"
  },
  "orig_nbformat": 4
 },
 "nbformat": 4,
 "nbformat_minor": 2
}
