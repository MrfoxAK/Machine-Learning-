{
 "cells": [
  {
   "cell_type": "code",
   "execution_count": 38,
   "id": "fa7e71da",
   "metadata": {},
   "outputs": [],
   "source": [
    "from keras.preprocessing.image import ImageDataGenerator\n",
    "import tensorflow as tf\n",
    "import matplotlib.pyplot as plt\n",
    "import cv2\n",
    "import os\n",
    "import numpy as np"
   ]
  },
  {
   "cell_type": "code",
   "execution_count": 39,
   "id": "dfa9cf08",
   "metadata": {},
   "outputs": [],
   "source": [
    "base_dir = \"C:\\\\Users\\\\AKASH\\\\Tenserflow\\\\flower\\\\flowers\"\n"
   ]
  },
  {
   "cell_type": "code",
   "execution_count": 40,
   "id": "0ab0c267",
   "metadata": {},
   "outputs": [
    {
     "name": "stdout",
     "output_type": "stream",
     "text": [
      "Found 1479 images belonging to 4 classes.\n",
      "Found 162 images belonging to 4 classes.\n"
     ]
    }
   ],
   "source": [
    "img_size = 224\n",
    "Batch_size = 64\n",
    "\n",
    "train_datagen = tf.keras.preprocessing.image.ImageDataGenerator(\n",
    "     rescale=1./255,\n",
    "     shear_range=0.2,\n",
    "     zoom_range=0.2,\n",
    "     horizontal_flip=True,\n",
    "     validation_split=0.1\n",
    ")\n",
    "\n",
    "test_datagen = tf.keras.preprocessing.image.ImageDataGenerator(\n",
    "     rescale=1./255,\n",
    "     validation_split=0.1\n",
    ")\n",
    "\n",
    "train_datagen=train_datagen.flow_from_directory(\n",
    "     base_dir,\n",
    "     target_size=(img_size,img_size),\n",
    "     batch_size= Batch_size,\n",
    "     subset='training'\n",
    ")\n",
    "\n",
    "test_datagen=test_datagen.flow_from_directory(\n",
    "     base_dir,\n",
    "     target_size=(img_size,img_size),\n",
    "     batch_size= Batch_size,\n",
    "     subset='validation'\n",
    ")\n"
   ]
  },
  {
   "cell_type": "code",
   "execution_count": 41,
   "id": "5c4e6084",
   "metadata": {},
   "outputs": [],
   "source": [
    "cnn = tf.keras.Sequential()\n",
    "cnn.add(tf.keras.layers.Conv2D(filters=64,padding='same',strides=2,kernel_size=3,activation='relu',input_shape = (224,224,3)))\n",
    "cnn.add(tf.keras.layers.MaxPool2D(pool_size=2,strides=2))\n",
    "cnn.add(tf.keras.layers.Flatten())\n",
    "cnn.add(tf.keras.layers.Dense(4,activation='softmax'))\n"
   ]
  },
  {
   "cell_type": "code",
   "execution_count": 53,
   "id": "1bfa7fa6",
   "metadata": {},
   "outputs": [],
   "source": [
    "cnn.compile(optimizer=tf.keras.optimizers.Adam(),loss='categorical_crossentropy',metrics=['accuracy'])"
   ]
  },
  {
   "cell_type": "code",
   "execution_count": 54,
   "id": "c6007b32",
   "metadata": {},
   "outputs": [
    {
     "name": "stdout",
     "output_type": "stream",
     "text": [
      "Model: \"sequential_6\"\n",
      "_________________________________________________________________\n",
      " Layer (type)                Output Shape              Param #   \n",
      "=================================================================\n",
      " conv2d_6 (Conv2D)           (None, 112, 112, 64)      1792      \n",
      "                                                                 \n",
      " max_pooling2d_6 (MaxPooling  (None, 56, 56, 64)       0         \n",
      " 2D)                                                             \n",
      "                                                                 \n",
      " flatten_6 (Flatten)         (None, 200704)            0         \n",
      "                                                                 \n",
      " dense_6 (Dense)             (None, 4)                 802820    \n",
      "                                                                 \n",
      "=================================================================\n",
      "Total params: 804,612\n",
      "Trainable params: 804,612\n",
      "Non-trainable params: 0\n",
      "_________________________________________________________________\n"
     ]
    }
   ],
   "source": [
    "cnn.summary()"
   ]
  },
  {
   "cell_type": "code",
   "execution_count": 55,
   "id": "234c4bc3",
   "metadata": {},
   "outputs": [
    {
     "name": "stdout",
     "output_type": "stream",
     "text": [
      "Epoch 1/5\n",
      "24/24 [==============================] - 36s 1s/step - loss: 2.6775 - accuracy: 0.4172 - val_loss: 0.9814 - val_accuracy: 0.5370\n",
      "Epoch 2/5\n",
      "24/24 [==============================] - 33s 1s/step - loss: 1.0127 - accuracy: 0.5598 - val_loss: 1.0638 - val_accuracy: 0.5556\n",
      "Epoch 3/5\n",
      "24/24 [==============================] - 32s 1s/step - loss: 0.9301 - accuracy: 0.6180 - val_loss: 0.9596 - val_accuracy: 0.6358\n",
      "Epoch 4/5\n",
      "24/24 [==============================] - 33s 1s/step - loss: 0.8778 - accuracy: 0.6423 - val_loss: 0.9731 - val_accuracy: 0.6049\n",
      "Epoch 5/5\n",
      "24/24 [==============================] - 32s 1s/step - loss: 0.8409 - accuracy: 0.6640 - val_loss: 0.8807 - val_accuracy: 0.6667\n"
     ]
    },
    {
     "data": {
      "text/plain": [
       "<keras.callbacks.History at 0x1d1baed3190>"
      ]
     },
     "execution_count": 55,
     "metadata": {},
     "output_type": "execute_result"
    }
   ],
   "source": [
    "cnn.fit(train_datagen,epochs=5,validation_data=test_datagen,verbose=1)"
   ]
  },
  {
   "cell_type": "code",
   "execution_count": 125,
   "id": "6c763d96",
   "metadata": {},
   "outputs": [
    {
     "name": "stdout",
     "output_type": "stream",
     "text": [
      "(1, 183, 276, 3)\n"
     ]
    }
   ],
   "source": [
    "import skimage\n",
    "import skimage.io as io\n",
    "import skimage.transform\n",
    "path = \"C:\\\\Users\\\\AKASH\\\\Tenserflow\\\\flower\\\\r4.jpg\"\n",
    "Load_image = tf.keras.preprocessing.image.load_img(path)\n",
    "# print(Load_image)\n",
    "from numpy import asarray\n",
    "data = asarray(Load_image)\n",
    "# data.resize(224,224,3)\n",
    "data = np.expand_dims(data,0)\n",
    "# img256 = skimage.transform.resize(data, (224,224))\n",
    "print(data.shape)\n"
   ]
  },
  {
   "cell_type": "code",
   "execution_count": 126,
   "id": "be19670d",
   "metadata": {},
   "outputs": [
    {
     "name": "stdout",
     "output_type": "stream",
     "text": [
      "(1, 224, 224, 3)\n",
      "1/1 [==============================] - 0s 19ms/step\n",
      "[[0. 0. 1. 0.]]\n"
     ]
    }
   ],
   "source": [
    "img1 = cv2.imread(path)\n",
    "img1 = cv2.resize(img1,(224,224),3)\n",
    "img1 = np.expand_dims(img1,0)\n",
    "print(img1.shape)\n",
    "pred = cnn.predict(img1)\n",
    "print(pred)\n",
    "# cv2.imshow(\"img\",img)\n",
    "# cv2.waitKey(0)"
   ]
  }
 ],
 "metadata": {
  "kernelspec": {
   "display_name": "Python 3",
   "language": "python",
   "name": "python3"
  },
  "language_info": {
   "codemirror_mode": {
    "name": "ipython",
    "version": 3
   },
   "file_extension": ".py",
   "mimetype": "text/x-python",
   "name": "python",
   "nbconvert_exporter": "python",
   "pygments_lexer": "ipython3",
   "version": "3.10.8"
  },
  "vscode": {
   "interpreter": {
    "hash": "9b0c1f7f8049144fc1bea94854c9915b9b1605c7e42c5e4d431b7f0af531f72e"
   }
  }
 },
 "nbformat": 4,
 "nbformat_minor": 5
}
